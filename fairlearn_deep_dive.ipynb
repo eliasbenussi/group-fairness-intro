{
 "cells": [
  {
   "cell_type": "markdown",
   "metadata": {},
   "source": [
    "# Comparison of two methodologies to achieve Equalized Odds"
   ]
  },
  {
   "cell_type": "code",
   "execution_count": null,
   "metadata": {},
   "outputs": [],
   "source": [
    "import numpy as np\n",
    "import pandas as pd\n",
    "import matplotlib.pyplot as plt\n",
    "\n",
    "from sklearn.datasets import fetch_openml\n",
    "from sklearn.metrics import accuracy_score\n",
    "from sklearn.tree import DecisionTreeClassifier\n",
    "\n",
    "from fairlearn.metrics import equalized_odds_difference, MetricFrame\n",
    "from fairlearn.postprocessing import ThresholdOptimizer\n",
    "from fairlearn.reductions import ExponentiatedGradient, DemographicParity, EqualizedOdds\n",
    "\n",
    "RANDOM_SEED = 42\n",
    "np.random.seed(RANDOM_SEED)"
   ]
  },
  {
   "cell_type": "code",
   "execution_count": null,
   "metadata": {},
   "outputs": [],
   "source": [
    "class ModelMitigationAnalyser:\n",
    "    \n",
    "    def __init__(self, classifier, X, y_true, sensitive_features):\n",
    "        self.X = X\n",
    "        self.y_true = y_true\n",
    "        self.sensitive_features = sensitive_features\n",
    "        self.y_pred = classifier.predict(X)\n",
    "        \n",
    "        mitigator_eo_to = ThresholdOptimizer(estimator=classifier, constraints='equalized_odds')\n",
    "        mitigator_eo_to.fit(X, y_true, sensitive_features=sensitive_features)\n",
    "        self.y_pred_eo_to = mitigator_eo_to.predict(X, sensitive_features=sensitive_features)\n",
    "        \n",
    "        mitigator_eo_eg = ExponentiatedGradient(classifier, EqualizedOdds())\n",
    "        mitigator_eo_eg.fit(X, y_true, sensitive_features=sensitive_features)\n",
    "        self.y_pred_eo_eg = mitigator_eo_eg.predict(X)\n",
    "        \n",
    "    def get_vanilla_accuracy(self):\n",
    "        vanilla_accuracy = MetricFrame(accuracy_score, self.y_true, self.y_pred, sensitive_features=self.sensitive_features)\n",
    "        return vanilla_accuracy\n",
    "    \n",
    "    def get_vanilla_equalized_odds_difference(self):\n",
    "        vanilla_eo_difference = equalized_odds_difference(self.y_true, self.y_pred, sensitive_features=self.sensitive_features)\n",
    "        return vanilla_eo_difference\n",
    "    \n",
    "    def get_threshold_optimisation_accuracy(self):\n",
    "        to_accuracy = MetricFrame(accuracy_score, self.y_true, self.y_pred_eo_to, sensitive_features=self.sensitive_features)\n",
    "        return to_accuracy\n",
    "    \n",
    "    def get_threshold_optimisation_equalized_odds_difference(self):\n",
    "        to_eo_difference = equalized_odds_difference(self.y_true, self.y_pred_eo_to, sensitive_features=self.sensitive_features)\n",
    "        return to_eo_difference\n",
    "    \n",
    "    def get_exponentiated_gradient_accuracy(self):\n",
    "        eg_accuracy = MetricFrame(accuracy_score, self.y_true, self.y_pred_eo_eg, sensitive_features=self.sensitive_features)\n",
    "        return eg_accuracy\n",
    "    \n",
    "    def get_exponentiated_gradient_equalized_odds_difference(self):\n",
    "        eg_eo_difference = equalized_odds_difference(self.y_true, self.y_pred_eo_eg, sensitive_features=self.sensitive_features)\n",
    "        return eg_eo_difference"
   ]
  },
  {
   "cell_type": "markdown",
   "metadata": {},
   "source": [
    "### Adult dataset"
   ]
  },
  {
   "cell_type": "code",
   "execution_count": null,
   "metadata": {},
   "outputs": [],
   "source": [
    "# Download adult data from https://www.openml.org/d/42477\n",
    "data_adult = fetch_openml(data_id=1590, as_frame=True)\n",
    "data_adult.data.head()"
   ]
  },
  {
   "cell_type": "code",
   "execution_count": null,
   "metadata": {},
   "outputs": [],
   "source": [
    "X_adult = pd.get_dummies(data_adult.data)\n",
    "y_true_adult = (data_adult.target == '>50K') * 1\n",
    "sensitive_features_adult = data_adult.data['sex']\n",
    "sensitive_features_adult.value_counts()"
   ]
  },
  {
   "cell_type": "code",
   "execution_count": null,
   "metadata": {},
   "outputs": [],
   "source": [
    "classifier_adult = DecisionTreeClassifier(min_samples_leaf=10, max_depth=4)\n",
    "classifier_adult.fit(X_adult, y_true_adult)\n",
    "y_pred_adult = classifier_adult.predict(X_adult)"
   ]
  },
  {
   "cell_type": "code",
   "execution_count": null,
   "metadata": {},
   "outputs": [],
   "source": [
    "# This might take a few minutes\n",
    "adult_mitigator_analyser = ModelMitigationAnalyser(\n",
    "    classifier_adult, \n",
    "    X_adult, \n",
    "    y_true_adult, \n",
    "    sensitive_features_adult\n",
    ")"
   ]
  },
  {
   "cell_type": "markdown",
   "metadata": {},
   "source": [
    "### Credit default dataset"
   ]
  },
  {
   "cell_type": "code",
   "execution_count": null,
   "metadata": {},
   "outputs": [],
   "source": [
    "# Download credit default data from https://www.openml.org/d/42477\n",
    "data_credit_default = fetch_openml(data_id=42477, as_frame=True)\n",
    "data_credit_default.data.head()"
   ]
  },
  {
   "cell_type": "code",
   "execution_count": null,
   "metadata": {},
   "outputs": [],
   "source": [
    "X_credit_default = pd.get_dummies(data_credit_default.data)\n",
    "y_true_credit_default = (data_credit_default.target == \"1\") * 1\n",
    "sensitive_features_credit_default = data_credit_default.data['x2']\n",
    "sensitive_features_credit_default.value_counts()\n",
    "y_true_credit_default"
   ]
  },
  {
   "cell_type": "code",
   "execution_count": null,
   "metadata": {},
   "outputs": [],
   "source": [
    "classifier_credit_default = DecisionTreeClassifier(min_samples_leaf=10, max_depth=4)\n",
    "classifier_credit_default.fit(X_credit_default, y_true_credit_default)\n",
    "y_pred_credit_default = classifier_credit_default.predict(X_credit_default)"
   ]
  },
  {
   "cell_type": "code",
   "execution_count": null,
   "metadata": {},
   "outputs": [],
   "source": [
    "# This might take a few minutes\n",
    "credit_default_mitigator_analyser = ModelMitigationAnalyser(\n",
    "    classifier_credit_default, \n",
    "    X_credit_default, \n",
    "    y_true_credit_default, \n",
    "    sensitive_features_credit_default\n",
    ")"
   ]
  },
  {
   "cell_type": "markdown",
   "metadata": {},
   "source": [
    "### Bank marketing dataset"
   ]
  },
  {
   "cell_type": "code",
   "execution_count": null,
   "metadata": {},
   "outputs": [],
   "source": [
    "#Download bank marketing data from https://www.openml.org/d/1461\n",
    "data_bank_marketing = fetch_openml(data_id=1461, as_frame=True)\n",
    "data_bank_marketing.data.head()"
   ]
  },
  {
   "cell_type": "code",
   "execution_count": null,
   "metadata": {},
   "outputs": [],
   "source": [
    "X_bank_marketing = pd.get_dummies(data_bank_marketing.data)\n",
    "y_true_bank_marketing = (data_bank_marketing.target == \"2\") * 1\n",
    "sensitive_features_bank_marketing = data_bank_marketing.data['V3']\n",
    "sensitive_features_bank_marketing.value_counts()"
   ]
  },
  {
   "cell_type": "code",
   "execution_count": null,
   "metadata": {},
   "outputs": [],
   "source": [
    "classifier_bank_marketing = DecisionTreeClassifier(min_samples_leaf=10, max_depth=4)\n",
    "classifier_bank_marketing.fit(X_bank_marketing, y_true_bank_marketing)\n",
    "y_pred_bank_marketing = classifier_bank_marketing.predict(X_bank_marketing)"
   ]
  },
  {
   "cell_type": "code",
   "execution_count": null,
   "metadata": {},
   "outputs": [],
   "source": [
    "# This might take a few minutes\n",
    "bank_marketing_mitigator_analyser = ModelMitigationAnalyser(\n",
    "    classifier_bank_marketing, \n",
    "    X_bank_marketing, \n",
    "    y_true_bank_marketing, \n",
    "    sensitive_features_bank_marketing\n",
    ")"
   ]
  },
  {
   "cell_type": "markdown",
   "metadata": {},
   "source": [
    "### Datasets analysis"
   ]
  },
  {
   "cell_type": "code",
   "execution_count": null,
   "metadata": {},
   "outputs": [],
   "source": [
    "def add_value_to_bar(xs, w, ys1, ys2, ys3):\n",
    "    fontsize = 8\n",
    "    \n",
    "    xs1 = xs - (w / 2)\n",
    "    xs2 = xs1 + w\n",
    "    xs3 = xs2 + w\n",
    "    d_y = 0.001\n",
    "    \n",
    "    for x, y in zip(xs1, ys1):\n",
    "        plt.text(x, y + d_y, \"%.3f\"%y, fontsize=fontsize, rotation=45)\n",
    "        \n",
    "    for x, y in zip(xs2, ys2):\n",
    "        plt.text(x, y + d_y, \"%.3f\"%y, fontsize=fontsize, rotation=45)\n",
    "        \n",
    "    for x, y in zip(xs3, ys3):\n",
    "        plt.text(x, y + d_y, \"%.3f\"%y, fontsize=fontsize, rotation=45)"
   ]
  },
  {
   "cell_type": "code",
   "execution_count": null,
   "metadata": {},
   "outputs": [],
   "source": [
    "x = [\n",
    "    'vanilla', \n",
    "    'eo_to', \n",
    "    'eo_eg',\n",
    "]\n",
    "adult_accuracy = [\n",
    "    adult_mitigator_analyser.get_vanilla_accuracy().overall,\n",
    "    adult_mitigator_analyser.get_threshold_optimisation_accuracy().overall,\n",
    "    adult_mitigator_analyser.get_exponentiated_gradient_accuracy().overall,\n",
    "]\n",
    "credit_default_accuracy = [\n",
    "    credit_default_mitigator_analyser.get_vanilla_accuracy().overall,\n",
    "    credit_default_mitigator_analyser.get_threshold_optimisation_accuracy().overall,\n",
    "    credit_default_mitigator_analyser.get_exponentiated_gradient_accuracy().overall,\n",
    "]\n",
    "bank_marketing_accuracy = [\n",
    "    bank_marketing_mitigator_analyser.get_vanilla_accuracy().overall,\n",
    "    bank_marketing_mitigator_analyser.get_threshold_optimisation_accuracy().overall,\n",
    "    bank_marketing_mitigator_analyser.get_exponentiated_gradient_accuracy().overall,\n",
    "]\n",
    "\n",
    "width = 0.3\n",
    "locs = np.arange(1, len(x)+1)\n",
    "\n",
    "plt.title(\"Accuracy\")\n",
    "plt.bar(locs, adult_accuracy, width=width, color=\"aquamarine\", hatch=\"-\"*3, label='Adult')\n",
    "plt.bar(locs+width, credit_default_accuracy, width=width, color=\"darkorange\", hatch=\"|\"*3, label='Credit Default')\n",
    "plt.bar(locs+2*width, bank_marketing_accuracy, width=width, color=\"lightsteelblue\", hatch=\".\"*3, label='Bank Marketing')\n",
    "plt.legend()\n",
    "\n",
    "add_value_to_bar(locs, width, adult_accuracy, credit_default_accuracy, bank_marketing_accuracy)\n",
    "\n",
    "plt.xticks(locs+width, [\"vanilla\", \"thresh. optimisation\", \"exp. gradient\"])\n",
    "plt.ylim([0.81, 0.925])\n",
    "plt.xlim([0.5, 6])\n",
    "plt.show()"
   ]
  },
  {
   "cell_type": "code",
   "execution_count": null,
   "metadata": {},
   "outputs": [],
   "source": [
    "x = [\n",
    "    'vanilla', \n",
    "    'threshold optimisation', \n",
    "    'eo_eg',\n",
    "]\n",
    "adult_eo_difference = [\n",
    "    adult_mitigator_analyser.get_vanilla_equalized_odds_difference(),\n",
    "    adult_mitigator_analyser.get_threshold_optimisation_equalized_odds_difference(),\n",
    "    adult_mitigator_analyser.get_exponentiated_gradient_equalized_odds_difference(),\n",
    "]\n",
    "credit_default_eo_difference = [\n",
    "    credit_default_mitigator_analyser.get_vanilla_equalized_odds_difference(),\n",
    "    credit_default_mitigator_analyser.get_threshold_optimisation_equalized_odds_difference(),\n",
    "    credit_default_mitigator_analyser.get_exponentiated_gradient_equalized_odds_difference(),\n",
    "]\n",
    "bank_marketing_eo_difference = [\n",
    "    bank_marketing_mitigator_analyser.get_vanilla_equalized_odds_difference(),\n",
    "    bank_marketing_mitigator_analyser.get_threshold_optimisation_equalized_odds_difference(),\n",
    "    bank_marketing_mitigator_analyser.get_exponentiated_gradient_equalized_odds_difference(),\n",
    "]\n",
    "\n",
    "width = 0.3\n",
    "locs = np.arange(1, len(x)+1)\n",
    "\n",
    "plt.title(\"Equalized Odds Difference\")\n",
    "plt.bar(locs, adult_eo_difference, width=width, color=\"aquamarine\", hatch=\"-\"*3, label='Adult')\n",
    "plt.bar(locs+width, credit_default_eo_difference, width=width, color=\"darkorange\", hatch=\"|\"*3, label='Credit Default')\n",
    "plt.bar(locs+2*width, bank_marketing_eo_difference, width=width, color=\"lightsteelblue\", hatch=\".\"*3, label='Bank Marketing')\n",
    "plt.legend()\n",
    "\n",
    "add_value_to_bar(locs, width, adult_eo_difference, credit_default_eo_difference, bank_marketing_eo_difference)\n",
    "\n",
    "plt.xticks(locs+width, [\"vanilla\", \"thresh. optimisation\", \"exp. gradient\"])\n",
    "plt.ylim([0, 0.095])\n",
    "plt.show()"
   ]
  },
  {
   "cell_type": "code",
   "execution_count": null,
   "metadata": {},
   "outputs": [],
   "source": []
  }
 ],
 "metadata": {
  "kernelspec": {
   "display_name": "Python 3",
   "language": "python",
   "name": "python3"
  },
  "language_info": {
   "codemirror_mode": {
    "name": "ipython",
    "version": 3
   },
   "file_extension": ".py",
   "mimetype": "text/x-python",
   "name": "python",
   "nbconvert_exporter": "python",
   "pygments_lexer": "ipython3",
   "version": "3.8.0"
  }
 },
 "nbformat": 4,
 "nbformat_minor": 4
}
